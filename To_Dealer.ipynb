{
 "cells": [
  {
   "cell_type": "code",
   "execution_count": 1,
   "metadata": {
    "collapsed": true
   },
   "outputs": [],
   "source": [
    "import pandas as pd"
   ]
  },
  {
   "cell_type": "code",
   "execution_count": 2,
   "metadata": {
    "collapsed": true
   },
   "outputs": [],
   "source": [
    "his_data = pd.read_excel('C:\\\\Users\\\\Administrator\\\\Volvo\\\\To_Dealer\\\\Historical_Data_1106.xlsx')"
   ]
  },
  {
   "cell_type": "code",
   "execution_count": 7,
   "metadata": {},
   "outputs": [
    {
     "data": {
      "text/html": [
       "<div>\n",
       "<style>\n",
       "    .dataframe thead tr:only-child th {\n",
       "        text-align: right;\n",
       "    }\n",
       "\n",
       "    .dataframe thead th {\n",
       "        text-align: left;\n",
       "    }\n",
       "\n",
       "    .dataframe tbody tr th {\n",
       "        vertical-align: top;\n",
       "    }\n",
       "</style>\n",
       "<table border=\"1\" class=\"dataframe\">\n",
       "  <thead>\n",
       "    <tr style=\"text-align: right;\">\n",
       "      <th></th>\n",
       "      <th>CCProductQue2014VCCN</th>\n",
       "      <th>CCProductQue2014VCCN.1</th>\n",
       "      <th>CCProductQue2014VCCN.2</th>\n",
       "      <th>CCProductQue2014VCCN.3</th>\n",
       "      <th>CCProductQue2014VCCN.4</th>\n",
       "      <th>CCProductQue2014VCCN.5</th>\n",
       "      <th>*手机号码</th>\n",
       "      <th>CCProductQue2014VCCN.6</th>\n",
       "      <th>CCProductQue2014VCCN.7</th>\n",
       "      <th>CCProductQue2014VCCN.8</th>\n",
       "      <th>CCProductQue2014VCCN.9</th>\n",
       "      <th>CCProductQue2014VCCN.10</th>\n",
       "      <th>CCProductQue2014VCCN.11</th>\n",
       "      <th>Unnamed: 13</th>\n",
       "      <th>Unnamed: 14</th>\n",
       "    </tr>\n",
       "  </thead>\n",
       "  <tbody>\n",
       "    <tr>\n",
       "      <th>98036</th>\n",
       "      <td>IBZHZ2AS2017VCCN</td>\n",
       "      <td>郑州冬季车展</td>\n",
       "      <td>河南</td>\n",
       "      <td>郑州</td>\n",
       "      <td>HNB</td>\n",
       "      <td>周先生</td>\n",
       "      <td>13014652743</td>\n",
       "      <td>先生</td>\n",
       "      <td>All New XC90</td>\n",
       "      <td>NaN</td>\n",
       "      <td>2017/11/05</td>\n",
       "      <td>车展期间</td>\n",
       "      <td>NaN</td>\n",
       "      <td>IBZHZ2AS2017VCCN13014652743</td>\n",
       "      <td>NaN</td>\n",
       "    </tr>\n",
       "    <tr>\n",
       "      <th>98037</th>\n",
       "      <td>IBZHZ2AS2017VCCN</td>\n",
       "      <td>郑州冬季车展</td>\n",
       "      <td>河南</td>\n",
       "      <td>郑州</td>\n",
       "      <td>HNC</td>\n",
       "      <td>田先生</td>\n",
       "      <td>15837280949</td>\n",
       "      <td>先生</td>\n",
       "      <td>All New XC90</td>\n",
       "      <td>NaN</td>\n",
       "      <td>2017/11/05</td>\n",
       "      <td>半年内</td>\n",
       "      <td>NaN</td>\n",
       "      <td>IBZHZ2AS2017VCCN15837280949</td>\n",
       "      <td>NaN</td>\n",
       "    </tr>\n",
       "    <tr>\n",
       "      <th>98038</th>\n",
       "      <td>IBZHZ2AS2017VCCN</td>\n",
       "      <td>郑州冬季车展</td>\n",
       "      <td>河南</td>\n",
       "      <td>郑州</td>\n",
       "      <td>HNF</td>\n",
       "      <td>高先生</td>\n",
       "      <td>18037277160</td>\n",
       "      <td>先生</td>\n",
       "      <td>All New XC90</td>\n",
       "      <td>NaN</td>\n",
       "      <td>2017/11/05</td>\n",
       "      <td>半年内</td>\n",
       "      <td>NaN</td>\n",
       "      <td>IBZHZ2AS2017VCCN18037277160</td>\n",
       "      <td>NaN</td>\n",
       "    </tr>\n",
       "    <tr>\n",
       "      <th>98039</th>\n",
       "      <td>IBZHZ2AS2017VCCN</td>\n",
       "      <td>郑州冬季车展</td>\n",
       "      <td>河南</td>\n",
       "      <td>郑州</td>\n",
       "      <td>HNB</td>\n",
       "      <td>胡先生</td>\n",
       "      <td>13673661401</td>\n",
       "      <td>先生</td>\n",
       "      <td>XC60</td>\n",
       "      <td>NaN</td>\n",
       "      <td>2017/11/05</td>\n",
       "      <td>半年内</td>\n",
       "      <td>NaN</td>\n",
       "      <td>IBZHZ2AS2017VCCN13673661401</td>\n",
       "      <td>NaN</td>\n",
       "    </tr>\n",
       "    <tr>\n",
       "      <th>98040</th>\n",
       "      <td>IBZHZ2AS2017VCCN</td>\n",
       "      <td>郑州冬季车展</td>\n",
       "      <td>河南</td>\n",
       "      <td>郑州</td>\n",
       "      <td>HNC</td>\n",
       "      <td>李先生</td>\n",
       "      <td>18537896922</td>\n",
       "      <td>先生</td>\n",
       "      <td>S90长轴距</td>\n",
       "      <td>NaN</td>\n",
       "      <td>2017/11/05</td>\n",
       "      <td>半年内</td>\n",
       "      <td>NaN</td>\n",
       "      <td>IBZHZ2AS2017VCCN18537896922</td>\n",
       "      <td>NaN</td>\n",
       "    </tr>\n",
       "  </tbody>\n",
       "</table>\n",
       "</div>"
      ],
      "text/plain": [
       "      CCProductQue2014VCCN CCProductQue2014VCCN.1 CCProductQue2014VCCN.2  \\\n",
       "98036     IBZHZ2AS2017VCCN                 郑州冬季车展                     河南   \n",
       "98037     IBZHZ2AS2017VCCN                 郑州冬季车展                     河南   \n",
       "98038     IBZHZ2AS2017VCCN                 郑州冬季车展                     河南   \n",
       "98039     IBZHZ2AS2017VCCN                 郑州冬季车展                     河南   \n",
       "98040     IBZHZ2AS2017VCCN                 郑州冬季车展                     河南   \n",
       "\n",
       "      CCProductQue2014VCCN.3 CCProductQue2014VCCN.4 CCProductQue2014VCCN.5  \\\n",
       "98036                     郑州                    HNB                    周先生   \n",
       "98037                     郑州                    HNC                    田先生   \n",
       "98038                     郑州                    HNF                    高先生   \n",
       "98039                     郑州                    HNB                    胡先生   \n",
       "98040                     郑州                    HNC                    李先生   \n",
       "\n",
       "             *手机号码 CCProductQue2014VCCN.6 CCProductQue2014VCCN.7  \\\n",
       "98036  13014652743                     先生           All New XC90   \n",
       "98037  15837280949                     先生           All New XC90   \n",
       "98038  18037277160                     先生           All New XC90   \n",
       "98039  13673661401                     先生                   XC60   \n",
       "98040  18537896922                     先生                 S90长轴距   \n",
       "\n",
       "      CCProductQue2014VCCN.8 CCProductQue2014VCCN.9 CCProductQue2014VCCN.10  \\\n",
       "98036                    NaN             2017/11/05                    车展期间   \n",
       "98037                    NaN             2017/11/05                     半年内   \n",
       "98038                    NaN             2017/11/05                     半年内   \n",
       "98039                    NaN             2017/11/05                     半年内   \n",
       "98040                    NaN             2017/11/05                     半年内   \n",
       "\n",
       "      CCProductQue2014VCCN.11                  Unnamed: 13 Unnamed: 14  \n",
       "98036                     NaN  IBZHZ2AS2017VCCN13014652743         NaN  \n",
       "98037                     NaN  IBZHZ2AS2017VCCN15837280949         NaN  \n",
       "98038                     NaN  IBZHZ2AS2017VCCN18037277160         NaN  \n",
       "98039                     NaN  IBZHZ2AS2017VCCN13673661401         NaN  \n",
       "98040                     NaN  IBZHZ2AS2017VCCN18537896922         NaN  "
      ]
     },
     "execution_count": 7,
     "metadata": {},
     "output_type": "execute_result"
    }
   ],
   "source": [
    "his_data.tail()"
   ]
  },
  {
   "cell_type": "code",
   "execution_count": 138,
   "metadata": {
    "collapsed": true
   },
   "outputs": [],
   "source": [
    "data_1106_a = pd.read_excel('C:\\\\Users\\\\Administrator\\\\Volvo\\\\To_Dealer\\\\Leads_Distribution_1106_afternoon.xlsx')"
   ]
  },
  {
   "cell_type": "code",
   "execution_count": 139,
   "metadata": {},
   "outputs": [
    {
     "data": {
      "text/plain": [
       "Index(['姓名', '性别', '联系方式', 'LeadAPP User', '数据收集时间', '是否到过车展', '关注车型',\n",
       "       '对比其他品牌', '是否在成都购车并上牌', '购车城市', '购车时间', '是否试驾或了解', '经销商', '经销商代码',\n",
       "       '经销商是否已联系', '试驾或看车时间', '不同意经销商联系原因', '通话结果', '备注', 'CarSign', '不满意大类',\n",
       "       '不满意小类', '购车预算', 'IsLeads', '外呼日期', '数据导入时间', 'rn'],\n",
       "      dtype='object')"
      ]
     },
     "execution_count": 139,
     "metadata": {},
     "output_type": "execute_result"
    }
   ],
   "source": [
    "data_1106_a.columns"
   ]
  },
  {
   "cell_type": "code",
   "execution_count": 140,
   "metadata": {
    "scrolled": true
   },
   "outputs": [
    {
     "data": {
      "text/plain": [
       "0       郑州冬季车展\n",
       "1       郑州冬季车展\n",
       "2       郑州冬季车展\n",
       "3       郑州冬季车展\n",
       "4       郑州冬季车展\n",
       "5       郑州冬季车展\n",
       "6       郑州冬季车展\n",
       "7    C级11月长春车展\n",
       "8    C级11月长春车展\n",
       "9    C级11月长春车展\n",
       "Name: CarSign, dtype: object"
      ]
     },
     "execution_count": 140,
     "metadata": {},
     "output_type": "execute_result"
    }
   ],
   "source": [
    "data_1106_a['CarSign']"
   ]
  },
  {
   "cell_type": "code",
   "execution_count": 141,
   "metadata": {},
   "outputs": [
    {
     "data": {
      "text/plain": [
       "Index(['姓名', '性别', '联系方式', 'LeadAPP User', '数据收集时间', '是否到过车展', '关注车型',\n",
       "       '对比其他品牌', '是否在成都购车并上牌', '购车城市', '购车时间', '是否试驾或了解', '经销商', '经销商代码',\n",
       "       '经销商是否已联系', '试驾或看车时间', '不同意经销商联系原因', '通话结果', '备注', 'CarSign', '不满意大类',\n",
       "       '不满意小类', '购车预算', 'IsLeads', '外呼日期', '数据导入时间', 'rn'],\n",
       "      dtype='object')"
      ]
     },
     "execution_count": 141,
     "metadata": {},
     "output_type": "execute_result"
    }
   ],
   "source": [
    "data_1106_a.columns"
   ]
  },
  {
   "cell_type": "code",
   "execution_count": 142,
   "metadata": {
    "scrolled": true
   },
   "outputs": [
    {
     "data": {
      "text/plain": [
       "array([['姜先生', '男', 18624926191, 'AS02', '2017/11/5 0:00:00', '是',\n",
       "        'Volvo XC90', nan, '是', nan, '半年内', ' ', -1, ' ', nan, nan, nan,\n",
       "        '成功访问', nan, '郑州冬季车展', ' ', ' ', '50万', True,\n",
       "        Timestamp('2017-11-06 00:00:00'), Timestamp('2017-11-05 00:00:00'),\n",
       "        1],\n",
       "       ['郑先生', '男', 17319736266, 'AS01', '2017/11/5 0:00:00', '是',\n",
       "        'Volvo S60L', nan, '是', nan, '1个月内', ' ', -1, ' ', nan, nan, nan,\n",
       "        '成功访问', nan, '郑州冬季车展', ' ', ' ', '50-60万', True,\n",
       "        Timestamp('2017-11-06 00:00:00'), Timestamp('2017-11-05 00:00:00'),\n",
       "        1],\n",
       "       ['郭先生', '男', 15333806762, 'AS04', '2017/11/6 0:00:00', '是',\n",
       "        'Volvo XC90', nan, '是', nan, '3个月内', ' ', -1, ' ', nan, nan, nan,\n",
       "        '成功访问', nan, '郑州冬季车展', ' ', ' ', '50万', True,\n",
       "        Timestamp('2017-11-06 00:00:00'), Timestamp('2017-11-06 00:00:00'),\n",
       "        1],\n",
       "       ['闫先生', '男', 17638138262, 'AS04', '2017/11/6 0:00:00', '是',\n",
       "        'Volvo XC90', nan, '是', nan, '车展期间', ' ', -1, ' ', nan, nan, nan,\n",
       "        '成功访问', nan, '郑州冬季车展', ' ', ' ', '50万', True,\n",
       "        Timestamp('2017-11-06 00:00:00'), Timestamp('2017-11-06 00:00:00'),\n",
       "        1],\n",
       "       ['朱先生', '男', 15038258826, 'AS04', '2017/11/6 0:00:00', '是',\n",
       "        'Volvo XC90', nan, '是', nan, '车展期间', ' ', -1, ' ', nan, nan, nan,\n",
       "        '成功访问', nan, '郑州冬季车展', ' ', ' ', nan, True,\n",
       "        Timestamp('2017-11-06 00:00:00'), Timestamp('2017-11-06 00:00:00'),\n",
       "        1],\n",
       "       ['张先生', '男', 13653719444, 'AS02', '2017/11/6 0:00:00', '是',\n",
       "        'Volvo V40', nan, '是', nan, '车展期间', ' ', -1, ' ', nan, nan, nan,\n",
       "        '成功访问', nan, '郑州冬季车展', ' ', ' ', '20万左右', True,\n",
       "        Timestamp('2017-11-06 00:00:00'), Timestamp('2017-11-06 00:00:00'),\n",
       "        1],\n",
       "       ['袁女士', '女', 18603862959, 'AS06', '2017/11/6 0:00:00', '是',\n",
       "        'Volvo S60L', nan, '是', nan, '车展期间', ' ', -1, ' ', nan, nan, nan,\n",
       "        '成功访问', nan, '郑州冬季车展', ' ', ' ', '20-30万', True,\n",
       "        Timestamp('2017-11-06 00:00:00'), Timestamp('2017-11-06 00:00:00'),\n",
       "        1],\n",
       "       ['李先生', '男', 13500807917, ' ', '2017/11/2 0:00:00', '是',\n",
       "        'Volvo XC60', nan, '是', nan, '3个月内', ' ', -1, ' ', nan, nan, nan,\n",
       "        '成功访问', nan, 'C级11月长春车展', ' ', ' ', '30万', True,\n",
       "        Timestamp('2017-11-06 00:00:00'), Timestamp('2017-11-06 00:00:00'),\n",
       "        1],\n",
       "       ['吴先生', '男', 18186829111, ' ', '2017/11/5 0:00:00', '是',\n",
       "        'Volvo XC90', nan, '是', nan, '1个月内', ' ', -1, ' ', nan, nan, nan,\n",
       "        '成功访问', nan, 'C级11月长春车展', ' ', ' ', nan, True,\n",
       "        Timestamp('2017-11-06 00:00:00'), Timestamp('2017-11-06 00:00:00'),\n",
       "        1],\n",
       "       ['李先生', '男', 15904309630, ' ', '2017/11/5 0:00:00', '是',\n",
       "        'Volvo S60L', nan, '是', nan, '半年内', ' ', -1, ' ', nan, nan, nan,\n",
       "        '成功访问', nan, 'C级11月长春车展', ' ', ' ', '50万内', True,\n",
       "        Timestamp('2017-11-06 00:00:00'), Timestamp('2017-11-06 00:00:00'),\n",
       "        1]], dtype=object)"
      ]
     },
     "execution_count": 142,
     "metadata": {},
     "output_type": "execute_result"
    }
   ],
   "source": [
    "data_1106_a.values"
   ]
  },
  {
   "cell_type": "code",
   "execution_count": 143,
   "metadata": {},
   "outputs": [],
   "source": [
    "data_1106_a_zz = data_1106_a.loc[data_1106_a['CarSign'] == '郑州冬季车展']"
   ]
  },
  {
   "cell_type": "code",
   "execution_count": 144,
   "metadata": {
    "collapsed": true
   },
   "outputs": [],
   "source": [
    "SMM_template = pd.read_excel('C:\\\\Users\\\\Administrator\\\\Volvo\\\\To_Dealer\\\\SMM_template.xlsx')"
   ]
  },
  {
   "cell_type": "code",
   "execution_count": 145,
   "metadata": {},
   "outputs": [
    {
     "data": {
      "text/html": [
       "<div>\n",
       "<style>\n",
       "    .dataframe thead tr:only-child th {\n",
       "        text-align: right;\n",
       "    }\n",
       "\n",
       "    .dataframe thead th {\n",
       "        text-align: left;\n",
       "    }\n",
       "\n",
       "    .dataframe tbody tr th {\n",
       "        vertical-align: top;\n",
       "    }\n",
       "</style>\n",
       "<table border=\"1\" class=\"dataframe\">\n",
       "  <thead>\n",
       "    <tr style=\"text-align: right;\">\n",
       "      <th></th>\n",
       "      <th>*市场活动代码</th>\n",
       "      <th>*市场活动</th>\n",
       "      <th>*建店省份</th>\n",
       "      <th>*建店城市</th>\n",
       "      <th>*偏好经销商代码</th>\n",
       "      <th>*客户姓名</th>\n",
       "      <th>*手机号码</th>\n",
       "      <th>*称谓</th>\n",
       "      <th>*意向车型</th>\n",
       "      <th>*Email</th>\n",
       "      <th>*客户登记日期</th>\n",
       "      <th>*线索备注</th>\n",
       "      <th>*销售顾问账号</th>\n",
       "    </tr>\n",
       "  </thead>\n",
       "  <tbody>\n",
       "  </tbody>\n",
       "</table>\n",
       "</div>"
      ],
      "text/plain": [
       "Empty DataFrame\n",
       "Columns: [*市场活动代码, *市场活动, *建店省份, *建店城市, *偏好经销商代码, *客户姓名, *手机号码, *称谓, *意向车型, *Email, *客户登记日期, *线索备注, *销售顾问账号]\n",
       "Index: []"
      ]
     },
     "execution_count": 145,
     "metadata": {},
     "output_type": "execute_result"
    }
   ],
   "source": [
    "SMM_template"
   ]
  },
  {
   "cell_type": "code",
   "execution_count": 146,
   "metadata": {},
   "outputs": [],
   "source": [
    "SMM_template['*客户姓名'] = data_1106_a_zz['姓名']"
   ]
  },
  {
   "cell_type": "code",
   "execution_count": 147,
   "metadata": {},
   "outputs": [],
   "source": [
    "SMM_template['*手机号码'] = data_1106_a_zz['联系方式']"
   ]
  },
  {
   "cell_type": "code",
   "execution_count": 148,
   "metadata": {
    "collapsed": true
   },
   "outputs": [],
   "source": [
    "SMM_template['*称谓'] = data_1106_a_zz['性别']"
   ]
  },
  {
   "cell_type": "code",
   "execution_count": 149,
   "metadata": {},
   "outputs": [],
   "source": [
    "sex_mapping={\n",
    "    '男':'先生',\n",
    "    '女':'女士'\n",
    "}"
   ]
  },
  {
   "cell_type": "code",
   "execution_count": 150,
   "metadata": {
    "collapsed": true
   },
   "outputs": [],
   "source": [
    "f = lambda x: sex_mapping.get(x,x)"
   ]
  },
  {
   "cell_type": "code",
   "execution_count": 151,
   "metadata": {
    "collapsed": true
   },
   "outputs": [],
   "source": [
    "SMM_template['*称谓'] = SMM_template['*称谓'].map(f)"
   ]
  },
  {
   "cell_type": "code",
   "execution_count": 152,
   "metadata": {
    "collapsed": true
   },
   "outputs": [],
   "source": [
    "SMM_template['*意向车型'] = data_1106_a_zz['关注车型']"
   ]
  },
  {
   "cell_type": "code",
   "execution_count": 153,
   "metadata": {},
   "outputs": [],
   "source": [
    "model_mapping = {\n",
    "    'Volvo XC90': 'All New XC90',\n",
    "    'Volvo S60L': 'S60L',\n",
    "    'Volvo V40': 'V40',\n",
    "    'Volvo XC60': 'All New XC60'\n",
    "}"
   ]
  },
  {
   "cell_type": "code",
   "execution_count": 154,
   "metadata": {
    "collapsed": true
   },
   "outputs": [],
   "source": [
    "f = lambda x: model_mapping.get(x, x)"
   ]
  },
  {
   "cell_type": "code",
   "execution_count": 155,
   "metadata": {
    "collapsed": true
   },
   "outputs": [],
   "source": [
    "SMM_template['*意向车型'] = SMM_template['*意向车型'].map(f)"
   ]
  },
  {
   "cell_type": "code",
   "execution_count": 156,
   "metadata": {
    "collapsed": true
   },
   "outputs": [],
   "source": [
    "SMM_template['*客户登记日期'] =data_1106_a_zz['数据收集时间']"
   ]
  },
  {
   "cell_type": "code",
   "execution_count": 157,
   "metadata": {
    "collapsed": true
   },
   "outputs": [],
   "source": [
    "SMM_template['*线索备注'] = data_1106_a_zz['购车时间']"
   ]
  },
  {
   "cell_type": "code",
   "execution_count": 158,
   "metadata": {
    "collapsed": true
   },
   "outputs": [],
   "source": [
    "SMM_template['*市场活动代码'] = 'IBZHZ2AS2017VCCN'"
   ]
  },
  {
   "cell_type": "code",
   "execution_count": 159,
   "metadata": {
    "collapsed": true
   },
   "outputs": [],
   "source": [
    "SMM_template['*市场活动'] = '郑州冬季车展'"
   ]
  },
  {
   "cell_type": "code",
   "execution_count": 160,
   "metadata": {
    "collapsed": true
   },
   "outputs": [],
   "source": [
    "SMM_template['*建店省份'] = '河南'"
   ]
  },
  {
   "cell_type": "code",
   "execution_count": 161,
   "metadata": {
    "collapsed": true
   },
   "outputs": [],
   "source": [
    "SMM_template['*建店城市'] = '郑州'"
   ]
  },
  {
   "cell_type": "code",
   "execution_count": 162,
   "metadata": {},
   "outputs": [],
   "source": [
    "for i in range(0, SMM_template.index[-1]+1, 3):\n",
    "    SMM_template.loc[i, '*偏好经销商代码']='HNB'"
   ]
  },
  {
   "cell_type": "code",
   "execution_count": 163,
   "metadata": {
    "collapsed": true
   },
   "outputs": [],
   "source": [
    "for i in range(1, SMM_template.index[-1]+1, 3):\n",
    "    SMM_template.loc[i, '*偏好经销商代码']='HNC' "
   ]
  },
  {
   "cell_type": "code",
   "execution_count": 164,
   "metadata": {
    "collapsed": true
   },
   "outputs": [],
   "source": [
    "for i in range(2, SMM_template.index[-1]+1, 3):\n",
    "    SMM_template.loc[i, '*偏好经销商代码']='HNF'"
   ]
  },
  {
   "cell_type": "code",
   "execution_count": 170,
   "metadata": {},
   "outputs": [
    {
     "data": {
      "text/html": [
       "<div>\n",
       "<style>\n",
       "    .dataframe thead tr:only-child th {\n",
       "        text-align: right;\n",
       "    }\n",
       "\n",
       "    .dataframe thead th {\n",
       "        text-align: left;\n",
       "    }\n",
       "\n",
       "    .dataframe tbody tr th {\n",
       "        vertical-align: top;\n",
       "    }\n",
       "</style>\n",
       "<table border=\"1\" class=\"dataframe\">\n",
       "  <thead>\n",
       "    <tr style=\"text-align: right;\">\n",
       "      <th></th>\n",
       "      <th>*市场活动代码</th>\n",
       "      <th>*市场活动</th>\n",
       "      <th>*建店省份</th>\n",
       "      <th>*建店城市</th>\n",
       "      <th>*偏好经销商代码</th>\n",
       "      <th>*客户姓名</th>\n",
       "      <th>*手机号码</th>\n",
       "      <th>*称谓</th>\n",
       "      <th>*意向车型</th>\n",
       "      <th>*Email</th>\n",
       "      <th>*客户登记日期</th>\n",
       "      <th>*线索备注</th>\n",
       "      <th>*销售顾问账号</th>\n",
       "    </tr>\n",
       "  </thead>\n",
       "  <tbody>\n",
       "    <tr>\n",
       "      <th>0</th>\n",
       "      <td>IBZHZ2AS2017VCCN</td>\n",
       "      <td>郑州冬季车展</td>\n",
       "      <td>河南</td>\n",
       "      <td>郑州</td>\n",
       "      <td>HNB</td>\n",
       "      <td>姜先生</td>\n",
       "      <td>18624926191</td>\n",
       "      <td>先生</td>\n",
       "      <td>All New XC90</td>\n",
       "      <td>NaN</td>\n",
       "      <td>2017/11/5 0:00:00</td>\n",
       "      <td>半年内</td>\n",
       "      <td>NaN</td>\n",
       "    </tr>\n",
       "    <tr>\n",
       "      <th>1</th>\n",
       "      <td>IBZHZ2AS2017VCCN</td>\n",
       "      <td>郑州冬季车展</td>\n",
       "      <td>河南</td>\n",
       "      <td>郑州</td>\n",
       "      <td>HNC</td>\n",
       "      <td>郑先生</td>\n",
       "      <td>17319736266</td>\n",
       "      <td>先生</td>\n",
       "      <td>S60L</td>\n",
       "      <td>NaN</td>\n",
       "      <td>2017/11/5 0:00:00</td>\n",
       "      <td>1个月内</td>\n",
       "      <td>NaN</td>\n",
       "    </tr>\n",
       "    <tr>\n",
       "      <th>2</th>\n",
       "      <td>IBZHZ2AS2017VCCN</td>\n",
       "      <td>郑州冬季车展</td>\n",
       "      <td>河南</td>\n",
       "      <td>郑州</td>\n",
       "      <td>HNF</td>\n",
       "      <td>郭先生</td>\n",
       "      <td>15333806762</td>\n",
       "      <td>先生</td>\n",
       "      <td>All New XC90</td>\n",
       "      <td>NaN</td>\n",
       "      <td>2017/11/6 0:00:00</td>\n",
       "      <td>3个月内</td>\n",
       "      <td>NaN</td>\n",
       "    </tr>\n",
       "    <tr>\n",
       "      <th>3</th>\n",
       "      <td>IBZHZ2AS2017VCCN</td>\n",
       "      <td>郑州冬季车展</td>\n",
       "      <td>河南</td>\n",
       "      <td>郑州</td>\n",
       "      <td>HNB</td>\n",
       "      <td>闫先生</td>\n",
       "      <td>17638138262</td>\n",
       "      <td>先生</td>\n",
       "      <td>All New XC90</td>\n",
       "      <td>NaN</td>\n",
       "      <td>2017/11/6 0:00:00</td>\n",
       "      <td>车展期间</td>\n",
       "      <td>NaN</td>\n",
       "    </tr>\n",
       "    <tr>\n",
       "      <th>4</th>\n",
       "      <td>IBZHZ2AS2017VCCN</td>\n",
       "      <td>郑州冬季车展</td>\n",
       "      <td>河南</td>\n",
       "      <td>郑州</td>\n",
       "      <td>HNC</td>\n",
       "      <td>朱先生</td>\n",
       "      <td>15038258826</td>\n",
       "      <td>先生</td>\n",
       "      <td>All New XC90</td>\n",
       "      <td>NaN</td>\n",
       "      <td>2017/11/6 0:00:00</td>\n",
       "      <td>车展期间</td>\n",
       "      <td>NaN</td>\n",
       "    </tr>\n",
       "    <tr>\n",
       "      <th>5</th>\n",
       "      <td>IBZHZ2AS2017VCCN</td>\n",
       "      <td>郑州冬季车展</td>\n",
       "      <td>河南</td>\n",
       "      <td>郑州</td>\n",
       "      <td>HNF</td>\n",
       "      <td>张先生</td>\n",
       "      <td>13653719444</td>\n",
       "      <td>先生</td>\n",
       "      <td>V40</td>\n",
       "      <td>NaN</td>\n",
       "      <td>2017/11/6 0:00:00</td>\n",
       "      <td>车展期间</td>\n",
       "      <td>NaN</td>\n",
       "    </tr>\n",
       "    <tr>\n",
       "      <th>6</th>\n",
       "      <td>IBZHZ2AS2017VCCN</td>\n",
       "      <td>郑州冬季车展</td>\n",
       "      <td>河南</td>\n",
       "      <td>郑州</td>\n",
       "      <td>HNB</td>\n",
       "      <td>袁女士</td>\n",
       "      <td>18603862959</td>\n",
       "      <td>女士</td>\n",
       "      <td>S60L</td>\n",
       "      <td>NaN</td>\n",
       "      <td>2017/11/6 0:00:00</td>\n",
       "      <td>车展期间</td>\n",
       "      <td>NaN</td>\n",
       "    </tr>\n",
       "  </tbody>\n",
       "</table>\n",
       "</div>"
      ],
      "text/plain": [
       "            *市场活动代码   *市场活动 *建店省份 *建店城市 *偏好经销商代码 *客户姓名        *手机号码 *称谓  \\\n",
       "0  IBZHZ2AS2017VCCN  郑州冬季车展    河南    郑州      HNB   姜先生  18624926191  先生   \n",
       "1  IBZHZ2AS2017VCCN  郑州冬季车展    河南    郑州      HNC   郑先生  17319736266  先生   \n",
       "2  IBZHZ2AS2017VCCN  郑州冬季车展    河南    郑州      HNF   郭先生  15333806762  先生   \n",
       "3  IBZHZ2AS2017VCCN  郑州冬季车展    河南    郑州      HNB   闫先生  17638138262  先生   \n",
       "4  IBZHZ2AS2017VCCN  郑州冬季车展    河南    郑州      HNC   朱先生  15038258826  先生   \n",
       "5  IBZHZ2AS2017VCCN  郑州冬季车展    河南    郑州      HNF   张先生  13653719444  先生   \n",
       "6  IBZHZ2AS2017VCCN  郑州冬季车展    河南    郑州      HNB   袁女士  18603862959  女士   \n",
       "\n",
       "          *意向车型 *Email            *客户登记日期 *线索备注 *销售顾问账号  \n",
       "0  All New XC90    NaN  2017/11/5 0:00:00   半年内     NaN  \n",
       "1          S60L    NaN  2017/11/5 0:00:00  1个月内     NaN  \n",
       "2  All New XC90    NaN  2017/11/6 0:00:00  3个月内     NaN  \n",
       "3  All New XC90    NaN  2017/11/6 0:00:00  车展期间     NaN  \n",
       "4  All New XC90    NaN  2017/11/6 0:00:00  车展期间     NaN  \n",
       "5           V40    NaN  2017/11/6 0:00:00  车展期间     NaN  \n",
       "6          S60L    NaN  2017/11/6 0:00:00  车展期间     NaN  "
      ]
     },
     "execution_count": 170,
     "metadata": {},
     "output_type": "execute_result"
    }
   ],
   "source": [
    "SMM_template"
   ]
  },
  {
   "cell_type": "code",
   "execution_count": 166,
   "metadata": {
    "collapsed": true
   },
   "outputs": [],
   "source": [
    "all_data = pd.concat([his_data,SMM_template], ignore_index = False)"
   ]
  },
  {
   "cell_type": "code",
   "execution_count": 167,
   "metadata": {
    "scrolled": true
   },
   "outputs": [
    {
     "data": {
      "text/html": [
       "<div>\n",
       "<style>\n",
       "    .dataframe thead tr:only-child th {\n",
       "        text-align: right;\n",
       "    }\n",
       "\n",
       "    .dataframe thead th {\n",
       "        text-align: left;\n",
       "    }\n",
       "\n",
       "    .dataframe tbody tr th {\n",
       "        vertical-align: top;\n",
       "    }\n",
       "</style>\n",
       "<table border=\"1\" class=\"dataframe\">\n",
       "  <thead>\n",
       "    <tr style=\"text-align: right;\">\n",
       "      <th></th>\n",
       "      <th>*Email</th>\n",
       "      <th>*偏好经销商代码</th>\n",
       "      <th>*客户姓名</th>\n",
       "      <th>*客户登记日期</th>\n",
       "      <th>*市场活动</th>\n",
       "      <th>*市场活动代码</th>\n",
       "      <th>*建店城市</th>\n",
       "      <th>*建店省份</th>\n",
       "      <th>*意向车型</th>\n",
       "      <th>*手机号码</th>\n",
       "      <th>...</th>\n",
       "      <th>CCProductQue2014VCCN.2</th>\n",
       "      <th>CCProductQue2014VCCN.3</th>\n",
       "      <th>CCProductQue2014VCCN.4</th>\n",
       "      <th>CCProductQue2014VCCN.5</th>\n",
       "      <th>CCProductQue2014VCCN.6</th>\n",
       "      <th>CCProductQue2014VCCN.7</th>\n",
       "      <th>CCProductQue2014VCCN.8</th>\n",
       "      <th>CCProductQue2014VCCN.9</th>\n",
       "      <th>Unnamed: 13</th>\n",
       "      <th>Unnamed: 14</th>\n",
       "    </tr>\n",
       "  </thead>\n",
       "  <tbody>\n",
       "    <tr>\n",
       "      <th>2</th>\n",
       "      <td>NaN</td>\n",
       "      <td>HNF</td>\n",
       "      <td>郭先生</td>\n",
       "      <td>2017/11/6 0:00:00</td>\n",
       "      <td>郑州冬季车展</td>\n",
       "      <td>IBZHZ2AS2017VCCN</td>\n",
       "      <td>郑州</td>\n",
       "      <td>河南</td>\n",
       "      <td>All New XC90</td>\n",
       "      <td>15333806762</td>\n",
       "      <td>...</td>\n",
       "      <td>NaN</td>\n",
       "      <td>NaN</td>\n",
       "      <td>NaN</td>\n",
       "      <td>NaN</td>\n",
       "      <td>NaN</td>\n",
       "      <td>NaN</td>\n",
       "      <td>NaN</td>\n",
       "      <td>NaN</td>\n",
       "      <td>NaN</td>\n",
       "      <td>NaN</td>\n",
       "    </tr>\n",
       "    <tr>\n",
       "      <th>3</th>\n",
       "      <td>NaN</td>\n",
       "      <td>HNB</td>\n",
       "      <td>闫先生</td>\n",
       "      <td>2017/11/6 0:00:00</td>\n",
       "      <td>郑州冬季车展</td>\n",
       "      <td>IBZHZ2AS2017VCCN</td>\n",
       "      <td>郑州</td>\n",
       "      <td>河南</td>\n",
       "      <td>All New XC90</td>\n",
       "      <td>17638138262</td>\n",
       "      <td>...</td>\n",
       "      <td>NaN</td>\n",
       "      <td>NaN</td>\n",
       "      <td>NaN</td>\n",
       "      <td>NaN</td>\n",
       "      <td>NaN</td>\n",
       "      <td>NaN</td>\n",
       "      <td>NaN</td>\n",
       "      <td>NaN</td>\n",
       "      <td>NaN</td>\n",
       "      <td>NaN</td>\n",
       "    </tr>\n",
       "    <tr>\n",
       "      <th>4</th>\n",
       "      <td>NaN</td>\n",
       "      <td>HNC</td>\n",
       "      <td>朱先生</td>\n",
       "      <td>2017/11/6 0:00:00</td>\n",
       "      <td>郑州冬季车展</td>\n",
       "      <td>IBZHZ2AS2017VCCN</td>\n",
       "      <td>郑州</td>\n",
       "      <td>河南</td>\n",
       "      <td>All New XC90</td>\n",
       "      <td>15038258826</td>\n",
       "      <td>...</td>\n",
       "      <td>NaN</td>\n",
       "      <td>NaN</td>\n",
       "      <td>NaN</td>\n",
       "      <td>NaN</td>\n",
       "      <td>NaN</td>\n",
       "      <td>NaN</td>\n",
       "      <td>NaN</td>\n",
       "      <td>NaN</td>\n",
       "      <td>NaN</td>\n",
       "      <td>NaN</td>\n",
       "    </tr>\n",
       "    <tr>\n",
       "      <th>5</th>\n",
       "      <td>NaN</td>\n",
       "      <td>HNF</td>\n",
       "      <td>张先生</td>\n",
       "      <td>2017/11/6 0:00:00</td>\n",
       "      <td>郑州冬季车展</td>\n",
       "      <td>IBZHZ2AS2017VCCN</td>\n",
       "      <td>郑州</td>\n",
       "      <td>河南</td>\n",
       "      <td>V40</td>\n",
       "      <td>13653719444</td>\n",
       "      <td>...</td>\n",
       "      <td>NaN</td>\n",
       "      <td>NaN</td>\n",
       "      <td>NaN</td>\n",
       "      <td>NaN</td>\n",
       "      <td>NaN</td>\n",
       "      <td>NaN</td>\n",
       "      <td>NaN</td>\n",
       "      <td>NaN</td>\n",
       "      <td>NaN</td>\n",
       "      <td>NaN</td>\n",
       "    </tr>\n",
       "    <tr>\n",
       "      <th>6</th>\n",
       "      <td>NaN</td>\n",
       "      <td>HNB</td>\n",
       "      <td>袁女士</td>\n",
       "      <td>2017/11/6 0:00:00</td>\n",
       "      <td>郑州冬季车展</td>\n",
       "      <td>IBZHZ2AS2017VCCN</td>\n",
       "      <td>郑州</td>\n",
       "      <td>河南</td>\n",
       "      <td>S60L</td>\n",
       "      <td>18603862959</td>\n",
       "      <td>...</td>\n",
       "      <td>NaN</td>\n",
       "      <td>NaN</td>\n",
       "      <td>NaN</td>\n",
       "      <td>NaN</td>\n",
       "      <td>NaN</td>\n",
       "      <td>NaN</td>\n",
       "      <td>NaN</td>\n",
       "      <td>NaN</td>\n",
       "      <td>NaN</td>\n",
       "      <td>NaN</td>\n",
       "    </tr>\n",
       "  </tbody>\n",
       "</table>\n",
       "<p>5 rows × 27 columns</p>\n",
       "</div>"
      ],
      "text/plain": [
       "  *Email *偏好经销商代码 *客户姓名            *客户登记日期   *市场活动           *市场活动代码 *建店城市  \\\n",
       "2    NaN      HNF   郭先生  2017/11/6 0:00:00  郑州冬季车展  IBZHZ2AS2017VCCN    郑州   \n",
       "3    NaN      HNB   闫先生  2017/11/6 0:00:00  郑州冬季车展  IBZHZ2AS2017VCCN    郑州   \n",
       "4    NaN      HNC   朱先生  2017/11/6 0:00:00  郑州冬季车展  IBZHZ2AS2017VCCN    郑州   \n",
       "5    NaN      HNF   张先生  2017/11/6 0:00:00  郑州冬季车展  IBZHZ2AS2017VCCN    郑州   \n",
       "6    NaN      HNB   袁女士  2017/11/6 0:00:00  郑州冬季车展  IBZHZ2AS2017VCCN    郑州   \n",
       "\n",
       "  *建店省份         *意向车型        *手机号码     ...     CCProductQue2014VCCN.2  \\\n",
       "2    河南  All New XC90  15333806762     ...                        NaN   \n",
       "3    河南  All New XC90  17638138262     ...                        NaN   \n",
       "4    河南  All New XC90  15038258826     ...                        NaN   \n",
       "5    河南           V40  13653719444     ...                        NaN   \n",
       "6    河南          S60L  18603862959     ...                        NaN   \n",
       "\n",
       "  CCProductQue2014VCCN.3 CCProductQue2014VCCN.4 CCProductQue2014VCCN.5  \\\n",
       "2                    NaN                    NaN                    NaN   \n",
       "3                    NaN                    NaN                    NaN   \n",
       "4                    NaN                    NaN                    NaN   \n",
       "5                    NaN                    NaN                    NaN   \n",
       "6                    NaN                    NaN                    NaN   \n",
       "\n",
       "  CCProductQue2014VCCN.6 CCProductQue2014VCCN.7 CCProductQue2014VCCN.8  \\\n",
       "2                    NaN                    NaN                    NaN   \n",
       "3                    NaN                    NaN                    NaN   \n",
       "4                    NaN                    NaN                    NaN   \n",
       "5                    NaN                    NaN                    NaN   \n",
       "6                    NaN                    NaN                    NaN   \n",
       "\n",
       "  CCProductQue2014VCCN.9 Unnamed: 13 Unnamed: 14  \n",
       "2                    NaN         NaN         NaN  \n",
       "3                    NaN         NaN         NaN  \n",
       "4                    NaN         NaN         NaN  \n",
       "5                    NaN         NaN         NaN  \n",
       "6                    NaN         NaN         NaN  \n",
       "\n",
       "[5 rows x 27 columns]"
      ]
     },
     "execution_count": 167,
     "metadata": {},
     "output_type": "execute_result"
    }
   ],
   "source": [
    "all_data.tail()"
   ]
  },
  {
   "cell_type": "code",
   "execution_count": 214,
   "metadata": {
    "collapsed": true
   },
   "outputs": [],
   "source": [
    "all_data_clean = all_data.drop_duplicates(['*手机号码'])"
   ]
  },
  {
   "cell_type": "code",
   "execution_count": 215,
   "metadata": {},
   "outputs": [
    {
     "data": {
      "text/plain": [
       "(87817, 27)"
      ]
     },
     "execution_count": 215,
     "metadata": {},
     "output_type": "execute_result"
    }
   ],
   "source": [
    "all_data_clean.shape"
   ]
  },
  {
   "cell_type": "code",
   "execution_count": 190,
   "metadata": {},
   "outputs": [
    {
     "data": {
      "text/plain": [
       "'18537896922'"
      ]
     },
     "execution_count": 190,
     "metadata": {},
     "output_type": "execute_result"
    }
   ],
   "source": [
    "his_data['*手机号码'].iloc[-1]"
   ]
  },
  {
   "cell_type": "code",
   "execution_count": 218,
   "metadata": {},
   "outputs": [
    {
     "data": {
      "text/plain": [
       "0        False\n",
       "1        False\n",
       "2        False\n",
       "3        False\n",
       "4        False\n",
       "5        False\n",
       "6        False\n",
       "7        False\n",
       "8        False\n",
       "9        False\n",
       "10       False\n",
       "11       False\n",
       "12       False\n",
       "13       False\n",
       "14       False\n",
       "15       False\n",
       "16       False\n",
       "17       False\n",
       "18       False\n",
       "19       False\n",
       "20       False\n",
       "21       False\n",
       "22       False\n",
       "23       False\n",
       "24       False\n",
       "25       False\n",
       "26       False\n",
       "27       False\n",
       "28       False\n",
       "29       False\n",
       "         ...  \n",
       "98018    False\n",
       "98019    False\n",
       "98020    False\n",
       "98021    False\n",
       "98022    False\n",
       "98023    False\n",
       "98024    False\n",
       "98025    False\n",
       "98026    False\n",
       "98027    False\n",
       "98028    False\n",
       "98029    False\n",
       "98030    False\n",
       "98031    False\n",
       "98032    False\n",
       "98033    False\n",
       "98034    False\n",
       "98035    False\n",
       "98036    False\n",
       "98037    False\n",
       "98038    False\n",
       "98039    False\n",
       "98040     True\n",
       "0        False\n",
       "1        False\n",
       "2        False\n",
       "3        False\n",
       "4        False\n",
       "5        False\n",
       "6        False\n",
       "Name: *手机号码, Length: 87817, dtype: bool"
      ]
     },
     "execution_count": 218,
     "metadata": {},
     "output_type": "execute_result"
    }
   ],
   "source": [
    "all_data_clean['*手机号码']==his_data['*手机号码'].iloc[-1]"
   ]
  },
  {
   "cell_type": "code",
   "execution_count": 213,
   "metadata": {},
   "outputs": [
    {
     "data": {
      "text/plain": [
       "Int64Index([98040], dtype='int64')"
      ]
     },
     "execution_count": 213,
     "metadata": {},
     "output_type": "execute_result"
    }
   ],
   "source": [
    "all_data_clean.loc[all_data_clean['*手机号码']==his_data['*手机号码'].iloc[-1]].index"
   ]
  },
  {
   "cell_type": "code",
   "execution_count": 212,
   "metadata": {},
   "outputs": [
    {
     "data": {
      "text/html": [
       "<div>\n",
       "<style>\n",
       "    .dataframe thead tr:only-child th {\n",
       "        text-align: right;\n",
       "    }\n",
       "\n",
       "    .dataframe thead th {\n",
       "        text-align: left;\n",
       "    }\n",
       "\n",
       "    .dataframe tbody tr th {\n",
       "        vertical-align: top;\n",
       "    }\n",
       "</style>\n",
       "<table border=\"1\" class=\"dataframe\">\n",
       "  <thead>\n",
       "    <tr style=\"text-align: right;\">\n",
       "      <th></th>\n",
       "      <th>*Email</th>\n",
       "      <th>*偏好经销商代码</th>\n",
       "      <th>*客户姓名</th>\n",
       "      <th>*客户登记日期</th>\n",
       "      <th>*市场活动</th>\n",
       "      <th>*市场活动代码</th>\n",
       "      <th>*建店城市</th>\n",
       "      <th>*建店省份</th>\n",
       "      <th>*意向车型</th>\n",
       "      <th>*手机号码</th>\n",
       "      <th>...</th>\n",
       "      <th>CCProductQue2014VCCN.2</th>\n",
       "      <th>CCProductQue2014VCCN.3</th>\n",
       "      <th>CCProductQue2014VCCN.4</th>\n",
       "      <th>CCProductQue2014VCCN.5</th>\n",
       "      <th>CCProductQue2014VCCN.6</th>\n",
       "      <th>CCProductQue2014VCCN.7</th>\n",
       "      <th>CCProductQue2014VCCN.8</th>\n",
       "      <th>CCProductQue2014VCCN.9</th>\n",
       "      <th>Unnamed: 13</th>\n",
       "      <th>Unnamed: 14</th>\n",
       "    </tr>\n",
       "  </thead>\n",
       "  <tbody>\n",
       "  </tbody>\n",
       "</table>\n",
       "<p>0 rows × 27 columns</p>\n",
       "</div>"
      ],
      "text/plain": [
       "Empty DataFrame\n",
       "Columns: [*Email, *偏好经销商代码, *客户姓名, *客户登记日期, *市场活动, *市场活动代码, *建店城市, *建店省份, *意向车型, *手机号码, *称谓, *线索备注, *销售顾问账号, CCProductQue2014VCCN, CCProductQue2014VCCN.1, CCProductQue2014VCCN.10, CCProductQue2014VCCN.11, CCProductQue2014VCCN.2, CCProductQue2014VCCN.3, CCProductQue2014VCCN.4, CCProductQue2014VCCN.5, CCProductQue2014VCCN.6, CCProductQue2014VCCN.7, CCProductQue2014VCCN.8, CCProductQue2014VCCN.9, Unnamed: 13, Unnamed: 14]\n",
       "Index: []\n",
       "\n",
       "[0 rows x 27 columns]"
      ]
     },
     "execution_count": 212,
     "metadata": {},
     "output_type": "execute_result"
    }
   ],
   "source": [
    "all_data_clean.iloc[98040:]"
   ]
  },
  {
   "cell_type": "code",
   "execution_count": null,
   "metadata": {
    "collapsed": true
   },
   "outputs": [],
   "source": [
    "data_1106_a_clean ="
   ]
  },
  {
   "cell_type": "code",
   "execution_count": 177,
   "metadata": {},
   "outputs": [
    {
     "data": {
      "text/plain": [
       "98040"
      ]
     },
     "execution_count": 177,
     "metadata": {},
     "output_type": "execute_result"
    }
   ],
   "source": [
    "his_data.index[-1]"
   ]
  },
  {
   "cell_type": "code",
   "execution_count": 176,
   "metadata": {},
   "outputs": [
    {
     "data": {
      "text/html": [
       "<div>\n",
       "<style>\n",
       "    .dataframe thead tr:only-child th {\n",
       "        text-align: right;\n",
       "    }\n",
       "\n",
       "    .dataframe thead th {\n",
       "        text-align: left;\n",
       "    }\n",
       "\n",
       "    .dataframe tbody tr th {\n",
       "        vertical-align: top;\n",
       "    }\n",
       "</style>\n",
       "<table border=\"1\" class=\"dataframe\">\n",
       "  <thead>\n",
       "    <tr style=\"text-align: right;\">\n",
       "      <th></th>\n",
       "      <th>*Email</th>\n",
       "      <th>*偏好经销商代码</th>\n",
       "      <th>*客户姓名</th>\n",
       "      <th>*客户登记日期</th>\n",
       "      <th>*市场活动</th>\n",
       "      <th>*市场活动代码</th>\n",
       "      <th>*建店城市</th>\n",
       "      <th>*建店省份</th>\n",
       "      <th>*意向车型</th>\n",
       "      <th>*手机号码</th>\n",
       "      <th>...</th>\n",
       "      <th>CCProductQue2014VCCN.2</th>\n",
       "      <th>CCProductQue2014VCCN.3</th>\n",
       "      <th>CCProductQue2014VCCN.4</th>\n",
       "      <th>CCProductQue2014VCCN.5</th>\n",
       "      <th>CCProductQue2014VCCN.6</th>\n",
       "      <th>CCProductQue2014VCCN.7</th>\n",
       "      <th>CCProductQue2014VCCN.8</th>\n",
       "      <th>CCProductQue2014VCCN.9</th>\n",
       "      <th>Unnamed: 13</th>\n",
       "      <th>Unnamed: 14</th>\n",
       "    </tr>\n",
       "  </thead>\n",
       "  <tbody>\n",
       "  </tbody>\n",
       "</table>\n",
       "<p>0 rows × 27 columns</p>\n",
       "</div>"
      ],
      "text/plain": [
       "Empty DataFrame\n",
       "Columns: [*Email, *偏好经销商代码, *客户姓名, *客户登记日期, *市场活动, *市场活动代码, *建店城市, *建店省份, *意向车型, *手机号码, *称谓, *线索备注, *销售顾问账号, CCProductQue2014VCCN, CCProductQue2014VCCN.1, CCProductQue2014VCCN.10, CCProductQue2014VCCN.11, CCProductQue2014VCCN.2, CCProductQue2014VCCN.3, CCProductQue2014VCCN.4, CCProductQue2014VCCN.5, CCProductQue2014VCCN.6, CCProductQue2014VCCN.7, CCProductQue2014VCCN.8, CCProductQue2014VCCN.9, Unnamed: 13, Unnamed: 14]\n",
       "Index: []\n",
       "\n",
       "[0 rows x 27 columns]"
      ]
     },
     "execution_count": 176,
     "metadata": {},
     "output_type": "execute_result"
    }
   ],
   "source": [
    "data_1106_a_clean"
   ]
  },
  {
   "cell_type": "code",
   "execution_count": null,
   "metadata": {
    "collapsed": true
   },
   "outputs": [],
   "source": []
  }
 ],
 "metadata": {
  "kernelspec": {
   "display_name": "Python 3",
   "language": "python",
   "name": "python3"
  },
  "language_info": {
   "codemirror_mode": {
    "name": "ipython",
    "version": 3
   },
   "file_extension": ".py",
   "mimetype": "text/x-python",
   "name": "python",
   "nbconvert_exporter": "python",
   "pygments_lexer": "ipython3",
   "version": "3.6.3"
  }
 },
 "nbformat": 4,
 "nbformat_minor": 2
}
